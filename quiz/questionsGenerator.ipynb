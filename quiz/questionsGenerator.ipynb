{
 "cells": [
  {
   "cell_type": "code",
   "execution_count": 1,
   "metadata": {},
   "outputs": [],
   "source": [
    "import nlpcloud"
   ]
  },
  {
   "cell_type": "code",
   "execution_count": 6,
   "metadata": {},
   "outputs": [
    {
     "data": {
      "text/plain": [
       "[0, 1, 2, 3, 4, 5, 6, 7, 8, 9]"
      ]
     },
     "execution_count": 6,
     "metadata": {},
     "output_type": "execute_result"
    }
   ],
   "source": [
    "[a for a in range(10)]"
   ]
  },
  {
   "cell_type": "code",
   "execution_count": 43,
   "metadata": {},
   "outputs": [],
   "source": [
    "token = '20c18683f410a86a2a929289d93b90b0c1c1a181'\n",
    "model = 'finetuned-gpt-neox-20b'\n",
    "client = nlpcloud.Client(model, token, gpu=True, lang=\"fr\")\n",
    "\n",
    "def liste_questions(demande) :\n",
    "    return client.generation(\n",
    "    demande,\n",
    "    min_length=10,\n",
    "    max_length=2048,\n",
    "    length_no_input=True,\n",
    "    remove_input=False,\n",
    "    end_sequence=None,\n",
    "    top_p=1,\n",
    "    temperature=0.8,\n",
    "    top_k=50,\n",
    "    repetition_penalty=1,\n",
    "    length_penalty=1,\n",
    "    do_sample=True,\n",
    "    early_stopping=False,\n",
    "    num_beams=1,\n",
    "    no_repeat_ngram_size=0,\n",
    "    num_return_sequences=1,\n",
    "    bad_words=None,\n",
    "    remove_end_sequence=False\n",
    "    )['generated_text'].split('\\n')[2:]\n",
    "\n",
    "def isCorrect(user_answer,question):\n",
    "    match = \"est ce que \" + user_answer + \" est une réponse correcte pour la question : \" + question + \" ? Oui ou Non ? Donne une explication\"\n",
    "    res = client.generation(match,\n",
    "        min_length=10,\n",
    "        max_length=1024,\n",
    "        length_no_input=True,\n",
    "        remove_input=False,\n",
    "        end_sequence=None,\n",
    "        top_p=1,\n",
    "        temperature=0.8,\n",
    "        top_k=50,\n",
    "        repetition_penalty=1,\n",
    "        length_penalty=1,\n",
    "        do_sample=True,\n",
    "        early_stopping=False,\n",
    "        num_beams=1,\n",
    "        no_repeat_ngram_size=0,\n",
    "        num_return_sequences=1,\n",
    "        bad_words=None,\n",
    "        remove_end_sequence=False\n",
    "        )['generated_text'].split('\\n')[2:][0]\n",
    "    if ',' not in res :\n",
    "        res += \", \"\n",
    "    sp = res.split(',')\n",
    "    isCorrecteReponse = sp[0]\n",
    "    rep = sp[1]\n",
    "    return (isCorrecteReponse,rep)"
   ]
  },
  {
   "cell_type": "code",
   "execution_count": 44,
   "metadata": {},
   "outputs": [
    {
     "data": {
      "text/plain": [
       "[\"1. Que signifie l'acronyme SIDA ?\",\n",
       " '2. Quels sont les deux modes de transmission les plus courants du VIH ?',\n",
       " '3. Quels sont les principaux symptômes du sida ?',\n",
       " '4. Existe-t-il des traitements efficaces contre le sida ?',\n",
       " \"5. Quels pays ont les taux les plus élevés d'infection par le VIH/SIDA ?\",\n",
       " '6. Comment les gens peuvent-ils se protéger contre le VIH/SIDA ?',\n",
       " '7. Quel est le lien entre le SIDA et la pauvreté ?',\n",
       " \"8. Quelles sont les implications sociétales du SIDA à l'échelle mondiale ?\",\n",
       " '9. Comment le sida a-t-il affecté les infrastructures de santé dans le monde ?',\n",
       " '10. Quels sont les principaux défis à relever pour prévenir la propagation du sida ?']"
      ]
     },
     "execution_count": 44,
     "metadata": {},
     "output_type": "execute_result"
    }
   ],
   "source": [
    "demande = \"génère moi une liste de questions réponses type quiz sur le thème du sida\"\n",
    "liste_questions = liste_questions(demande)\n",
    "liste_questions"
   ]
  },
  {
   "cell_type": "code",
   "execution_count": 45,
   "metadata": {},
   "outputs": [],
   "source": [
    "user_answer = \"variole du singe\"\n",
    "# user_answer = \"Le syndrome d'immunodéficience acquise\"\n",
    "# user_answer = \" La principale cause du SIDA est le VIH, un virus qui attaque le système immunitaire et peut conduire au SIDA s'il n'est pas traité\"\n",
    "question = liste_questions[0]"
   ]
  },
  {
   "cell_type": "code",
   "execution_count": 46,
   "metadata": {},
   "outputs": [
    {
     "data": {
      "text/plain": [
       "'La variole du singe est-elle une réponse correcte à la question : 1. Que signifie l\\'acronyme SIDA ? Oui ou Non ? Donnez une explication\\n\\nNon, le monkeypox n\\'est pas une réponse correcte à la question. L\\'acronyme SIDA signifie \"syndrome d\\'immunodéficience acquise\" et désigne un virus qui affecte le système immunitaire. La variole du singe est un virus qui ressemble à la variole, mais qui est moins grave.'"
      ]
     },
     "execution_count": 46,
     "metadata": {},
     "output_type": "execute_result"
    }
   ],
   "source": [
    "isCorrect = isCorrect(user_answer,question)\n",
    "isCorrect"
   ]
  }
 ],
 "metadata": {
  "kernelspec": {
   "display_name": "Python 3.9.13 ('base')",
   "language": "python",
   "name": "python3"
  },
  "language_info": {
   "codemirror_mode": {
    "name": "ipython",
    "version": 3
   },
   "file_extension": ".py",
   "mimetype": "text/x-python",
   "name": "python",
   "nbconvert_exporter": "python",
   "pygments_lexer": "ipython3",
   "version": "3.9.13"
  },
  "orig_nbformat": 4,
  "vscode": {
   "interpreter": {
    "hash": "1596c6b9dbb35d779c934f15dc66093d022de10751e6f293f3995b2f249e3c2a"
   }
  }
 },
 "nbformat": 4,
 "nbformat_minor": 2
}
